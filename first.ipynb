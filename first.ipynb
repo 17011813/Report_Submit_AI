{
  "nbformat": 4,
  "nbformat_minor": 0,
  "metadata": {
    "colab": {
      "name": "사관학교1.ipynb",
      "provenance": [],
      "authorship_tag": "ABX9TyMrDZz02zjX2YprRuPUuMUF",
      "include_colab_link": true
    },
    "kernelspec": {
      "name": "python3",
      "display_name": "Python 3"
    }
  },
  "cells": [
    {
      "cell_type": "markdown",
      "metadata": {
        "id": "view-in-github",
        "colab_type": "text"
      },
      "source": [
        "<a href=\"https://colab.research.google.com/github/17011813/Report_Submit_AI/blob/master/first.ipynb\" target=\"_parent\"><img src=\"https://colab.research.google.com/assets/colab-badge.svg\" alt=\"Open In Colab\"/></a>"
      ]
    },
    {
      "cell_type": "markdown",
      "metadata": {
        "id": "hxv0NX7qKugP",
        "colab_type": "text"
      },
      "source": [
        "#인공지능 사관학교 과제1 : **언어**, **음성**, **이미지**, **자율주행** 분야의 기술을 사용하는 *4가지* 제품 및 서비스\n",
        "\n",
        "###언어 : 네이버 파파고 번역\n",
        "[네이버 파파고](https://papago.naver.com/)\n",
        "\n",
        "###음성 : KT 기가지니\n",
        "[기가지니](https://gigagenie.kt.com/main.do)\n",
        "\n",
        "###이미지 : 구글 렌즈\n",
        "[구글 렌즈](https://play.google.com/store/apps/details?id=com.google.ar.lens&hl=ko)\n",
        "\n",
        "###자율주행 : 테슬라 자율주행 자동차\n",
        "[테슬라 Auto Pilot](https://www.tesla.com/ko_KR/autopilot)\n",
        "\n",
        "\n"
      ]
    }
  ]
}